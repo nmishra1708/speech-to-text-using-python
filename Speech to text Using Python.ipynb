{
 "cells": [
  {
   "cell_type": "code",
   "execution_count": 5,
   "metadata": {},
   "outputs": [
    {
     "name": "stdout",
     "output_type": "stream",
     "text": [
      "speak......\n",
      "Recording time 04:39:07\n",
      "Coudn't process the audio input\n"
     ]
    }
   ],
   "source": [
    "import speech_recognition as sr\n",
    "import time\n",
    "import pyaudio\n",
    "\n",
    "r = sr.Recognizer()\n",
    "with sr.Microphone() as s:    \n",
    "    print(\"speak......\")\n",
    "    audio_input = r.record(s, duration=30)\n",
    "    print(\"Recording time\", time.strftime(\"%I:%M:%S\"))\n",
    "    try:\n",
    "        text_output = store.recognize_google(audio_input)\n",
    "        print(\"Text converted from audio:\\n\")\n",
    "        print(text_output)\n",
    "        print(\"Finished\")\n",
    "        print(\"Execution time\", time.strtime(\"%I:%M:%S\"))\n",
    "    except:\n",
    "            print(\"Coudn't process the audio input\")    "
   ]
  },
  {
   "cell_type": "code",
   "execution_count": null,
   "metadata": {},
   "outputs": [],
   "source": []
  }
 ],
 "metadata": {
  "kernelspec": {
   "display_name": "Python 3",
   "language": "python",
   "name": "python3"
  },
  "language_info": {
   "codemirror_mode": {
    "name": "ipython",
    "version": 3
   },
   "file_extension": ".py",
   "mimetype": "text/x-python",
   "name": "python",
   "nbconvert_exporter": "python",
   "pygments_lexer": "ipython3",
   "version": "3.8.3"
  }
 },
 "nbformat": 4,
 "nbformat_minor": 4
}
